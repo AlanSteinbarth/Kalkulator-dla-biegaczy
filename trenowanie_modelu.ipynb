{
 "cells": [
  {
   "cell_type": "code",
   "execution_count": null,
   "metadata": {},
   "outputs": [
    {
     "ename": "ImportError",
     "evalue": "cannot import name 'load_dotenvy' from 'dotenv' (c:\\Users\\aleks\\miniconda3\\envs\\od_zera_do_ai\\Lib\\site-packages\\dotenv\\__init__.py)",
     "output_type": "error",
     "traceback": [
      "\u001b[1;31m---------------------------------------------------------------------------\u001b[0m",
      "\u001b[1;31mImportError\u001b[0m                               Traceback (most recent call last)",
      "Cell \u001b[1;32mIn[2], line 5\u001b[0m\n\u001b[0;32m      3\u001b[0m \u001b[38;5;28;01mimport\u001b[39;00m\u001b[38;5;250m \u001b[39m\u001b[38;5;21;01mboto3\u001b[39;00m\n\u001b[0;32m      4\u001b[0m \u001b[38;5;28;01mimport\u001b[39;00m\u001b[38;5;250m \u001b[39m\u001b[38;5;21;01mos\u001b[39;00m\n\u001b[1;32m----> 5\u001b[0m \u001b[38;5;28;01mfrom\u001b[39;00m\u001b[38;5;250m \u001b[39m\u001b[38;5;21;01mdotenv\u001b[39;00m\u001b[38;5;250m \u001b[39m\u001b[38;5;28;01mimport\u001b[39;00m load_dotenvy\n\u001b[0;32m      6\u001b[0m \u001b[38;5;28;01mimport\u001b[39;00m\u001b[38;5;250m \u001b[39m\u001b[38;5;21;01mmatplotlib\u001b[39;00m\u001b[38;5;21;01m.\u001b[39;00m\u001b[38;5;21;01mpyplot\u001b[39;00m\u001b[38;5;250m \u001b[39m\u001b[38;5;28;01mas\u001b[39;00m\u001b[38;5;250m \u001b[39m\u001b[38;5;21;01mplt\u001b[39;00m\n\u001b[0;32m      7\u001b[0m \u001b[38;5;28;01mfrom\u001b[39;00m\u001b[38;5;250m \u001b[39m\u001b[38;5;21;01mpycaret\u001b[39;00m\u001b[38;5;21;01m.\u001b[39;00m\u001b[38;5;21;01mregression\u001b[39;00m\u001b[38;5;250m \u001b[39m\u001b[38;5;28;01mimport\u001b[39;00m \u001b[38;5;241m*\u001b[39m\n",
      "\u001b[1;31mImportError\u001b[0m: cannot import name 'load_dotenvy' from 'dotenv' (c:\\Users\\aleks\\miniconda3\\envs\\od_zera_do_ai\\Lib\\site-packages\\dotenv\\__init__.py)"
     ]
    }
   ],
   "source": [
    "\n",
    "#importy koniecznych bibliotek\n",
    "import pandas as pd\n",
    "import boto3\n",
    "import os\n",
    "from dotenv import load_dotenv\n",
    "import matplotlib.pyplot as plt\n",
    "from pycaret.regression import *\n"
   ]
  },
  {
   "cell_type": "code",
   "execution_count": null,
   "metadata": {},
   "outputs": [],
   "source": [
    "#ładowanie zmiennych, klucze do łączenia się z bucket w DigitalOcean\n",
    "load_dotenv()"
   ]
  },
  {
   "cell_type": "markdown",
   "metadata": {},
   "source": [
    "Umieszczenie danych w Digital Ocean Spaces."
   ]
  },
  {
   "cell_type": "code",
   "execution_count": null,
   "metadata": {},
   "outputs": [],
   "source": [
    "#tworzenie klienta s3 do kontaktu z chmurą\n",
    "s3= boto3.client(\"s3\")"
   ]
  },
  {
   "cell_type": "code",
   "execution_count": null,
   "metadata": {},
   "outputs": [],
   "source": [
    "#nazwa bucketu w chmurze\n",
    "BUCKET_NAME=\"halfmarathontime\""
   ]
  },
  {
   "cell_type": "code",
   "execution_count": null,
   "metadata": {},
   "outputs": [],
   "source": [
    "#przesłanie plików półmaraton 2023 i 2024 do bucketu w chmurze\n",
    "\n",
    "s3.upload_file(\n",
    "    Filename='halfmarathon_wroclaw_2023__final.csv',\n",
    "    Bucket=BUCKET_NAME,\n",
    "    Key='stocks/year=2023/halfmarathon_wroclaw_2023__final.csv'\n",
    ")\n",
    "\n",
    "s3.upload_file(\n",
    "    Filename= 'halfmarathon_wroclaw_2024__final.csv',\n",
    "    Bucket=BUCKET_NAME,\n",
    "    Key='stocks/year=2024/halfmarathon_wroclaw_2024__final.csv'\n",
    ")\n",
    "print(f\"Pliki zostały wysłane do Cloud Storage\")"
   ]
  },
  {
   "cell_type": "markdown",
   "metadata": {},
   "source": [
    "Wczytanie danych z Digital Ocean Spaces. "
   ]
  },
  {
   "cell_type": "code",
   "execution_count": null,
   "metadata": {},
   "outputs": [],
   "source": [
    "#pobrane pliki zostana zapisane w folderze Dane\n",
    "os.makedirs(\"Dane\", exist_ok=True)\n",
    "s3.download_file(BUCKET_NAME,\"stocks/year=2023/halfmarathon_wroclaw_2023__final.csv\", \"Dane/halfmarathon_2023.csv\")\n",
    "print(f\"Plik zostały pobrany i zapisany.\")"
   ]
  },
  {
   "cell_type": "code",
   "execution_count": null,
   "metadata": {},
   "outputs": [],
   "source": [
    "s3.download_file(BUCKET_NAME, \"stocks/year=2024/halfmarathon_wroclaw_2024__final.csv\", \"Dane/halfmarathon_2024.csv\")\n",
    "print(f\"Plik zostały pobrany i zapisany.\")"
   ]
  },
  {
   "cell_type": "markdown",
   "metadata": {},
   "source": [
    "EDA i czyszczenie danych. "
   ]
  },
  {
   "cell_type": "code",
   "execution_count": null,
   "metadata": {},
   "outputs": [],
   "source": [
    "#łączenie danych\n",
    "file_2023 = \"Dane/halfmarathon_2023.csv\"\n",
    "file_2024 = \"Dane/halfmarathon_2024.csv\"\n",
    "\n",
    "df_2023 = pd.read_csv(file_2023, sep=\";\")\n",
    "df_2024 = pd.read_csv(file_2024, sep=\";\")\n",
    "\n",
    "#Połączenie DataFrame'ów w jeden\n",
    "df_full = pd.concat([df_2023, df_2024], ignore_index=True)"
   ]
  },
  {
   "cell_type": "code",
   "execution_count": null,
   "metadata": {},
   "outputs": [],
   "source": [
    "df_full.head()"
   ]
  },
  {
   "cell_type": "code",
   "execution_count": null,
   "metadata": {},
   "outputs": [],
   "source": [
    "df_full.info()"
   ]
  },
  {
   "cell_type": "code",
   "execution_count": null,
   "metadata": {},
   "outputs": [],
   "source": [
    "# Snippet pomocniczy - zmiana czasu na sekundy\n",
    "\n",
    "def convert_time_to_seconds(time):\n",
    "    if pd.isnull(time) or time in ['DNS', 'DNF']:\n",
    "        return None\n",
    "    time = time.split(':')\n",
    "    return int(time[0]) * 3600 + int(time[1]) * 60 + int(time[2])"
   ]
  },
  {
   "cell_type": "code",
   "execution_count": null,
   "metadata": {},
   "outputs": [],
   "source": [
    "df_full['Czas'] = df_full['Czas'].apply(convert_time_to_seconds)"
   ]
  },
  {
   "cell_type": "code",
   "execution_count": null,
   "metadata": {},
   "outputs": [],
   "source": [
    "time_columns = [ '5 km Czas', '10 km Czas', '15 km Czas', '20 km Czas']\n",
    "for col in time_columns:\n",
    "    df_full[col] = df_full[col].apply(convert_time_to_seconds)"
   ]
  },
  {
   "cell_type": "code",
   "execution_count": null,
   "metadata": {},
   "outputs": [],
   "source": [
    "df_full.head()"
   ]
  },
  {
   "cell_type": "code",
   "execution_count": null,
   "metadata": {},
   "outputs": [],
   "source": [
    "df_full.info()"
   ]
  },
  {
   "cell_type": "code",
   "execution_count": null,
   "metadata": {},
   "outputs": [],
   "source": [
    "#brakujace wartości\n",
    "df_full.isnull().sum()"
   ]
  },
  {
   "cell_type": "code",
   "execution_count": null,
   "metadata": {},
   "outputs": [],
   "source": [
    "# Usunięcie wierszy, gdzie brakuje wartości w kolumnie 'Czas'\n",
    "df_cleaned = df_full.dropna(subset=['Czas'])"
   ]
  },
  {
   "cell_type": "code",
   "execution_count": null,
   "metadata": {},
   "outputs": [],
   "source": [
    "df_cleaned.isnull().sum()"
   ]
  },
  {
   "cell_type": "code",
   "execution_count": null,
   "metadata": {},
   "outputs": [],
   "source": [
    "print(\"Procent pozostałych danych:\", round((len(df_cleaned) / len(df_full)) * 100, 2), \"%\")"
   ]
  },
  {
   "cell_type": "code",
   "execution_count": null,
   "metadata": {},
   "outputs": [],
   "source": [
    "#dulikaty\n",
    "df_cleaned[df_cleaned.duplicated()]"
   ]
  },
  {
   "cell_type": "code",
   "execution_count": null,
   "metadata": {},
   "outputs": [],
   "source": [
    "df_cleaned.columns"
   ]
  },
  {
   "cell_type": "code",
   "execution_count": null,
   "metadata": {},
   "outputs": [],
   "source": [
    "# reset kolumn\n",
    "df_cleaned = df_cleaned[['Płeć', 'Kategoria wiekowa','Rocznik', '5 km Czas', '5 km Tempo', '10 km Czas', '10 km Tempo',\n",
    "        '15 km Czas', '15 km Tempo', '20 km Czas', '20 km Tempo', 'Czas', 'Tempo']].copy()"
   ]
  },
  {
   "cell_type": "code",
   "execution_count": null,
   "metadata": {},
   "outputs": [],
   "source": [
    "df_cleaned.info()"
   ]
  },
  {
   "cell_type": "code",
   "execution_count": null,
   "metadata": {},
   "outputs": [],
   "source": [
    "\n",
    "#zmiana kolumny Rocznik na Wiek\n",
    "df_cleaned['Wiek'] = 2024 - df_cleaned['Rocznik']\n",
    "df_cleaned = df_cleaned.drop(columns=['Rocznik'])"
   ]
  },
  {
   "cell_type": "code",
   "execution_count": null,
   "metadata": {},
   "outputs": [],
   "source": [
    "df_cleaned.info()"
   ]
  },
  {
   "cell_type": "code",
   "execution_count": null,
   "metadata": {},
   "outputs": [],
   "source": [
    "df_cleaned.head()"
   ]
  },
  {
   "cell_type": "code",
   "execution_count": null,
   "metadata": {},
   "outputs": [],
   "source": [
    "df_cleaned.isnull().sum()"
   ]
  },
  {
   "cell_type": "code",
   "execution_count": null,
   "metadata": {},
   "outputs": [],
   "source": [
    "# wartości brakujace w ujęciu procentowym\n",
    "\n",
    "df_cleaned.isnull().sum() / len(df_cleaned) "
   ]
  },
  {
   "cell_type": "code",
   "execution_count": null,
   "metadata": {},
   "outputs": [],
   "source": [
    "#usunięcie brakujacych wartości w kolumnie Wiek\n",
    "df_cleaned = df_cleaned.dropna(subset=[\"Wiek\"])\n",
    "df_cleaned.sample(5)"
   ]
  },
  {
   "cell_type": "code",
   "execution_count": null,
   "metadata": {},
   "outputs": [],
   "source": [
    "df_cleaned.info()"
   ]
  },
  {
   "cell_type": "code",
   "execution_count": null,
   "metadata": {},
   "outputs": [],
   "source": [
    "df_cleaned.isnull().sum()"
   ]
  },
  {
   "cell_type": "code",
   "execution_count": null,
   "metadata": {},
   "outputs": [],
   "source": [
    "#usunięcie null w Kategoria wiekowa\n",
    "df_cleaned = df_cleaned.dropna(subset=[\"Kategoria wiekowa\"])"
   ]
  },
  {
   "cell_type": "code",
   "execution_count": null,
   "metadata": {},
   "outputs": [],
   "source": [
    "print(\"Procent pozostałych danych:\", round((len(df_cleaned) / len(df_full)) * 100, 2), \"%\")"
   ]
  },
  {
   "cell_type": "code",
   "execution_count": null,
   "metadata": {},
   "outputs": [],
   "source": [
    "#wizualizacja kilku zależności\n",
    "df_cleaned.plot(kind='scatter', x='5 km Tempo', y='Czas')"
   ]
  },
  {
   "cell_type": "code",
   "execution_count": null,
   "metadata": {},
   "outputs": [],
   "source": [
    "df_cleaned.plot(kind='scatter', x='5 km Czas', y='Czas')"
   ]
  },
  {
   "cell_type": "code",
   "execution_count": null,
   "metadata": {},
   "outputs": [],
   "source": [
    "df_cleaned.plot(kind='scatter', x='Tempo', y='Czas')"
   ]
  },
  {
   "cell_type": "code",
   "execution_count": null,
   "metadata": {},
   "outputs": [],
   "source": [
    "df_cleaned.plot(kind='scatter', x='Wiek', y='Czas')"
   ]
  },
  {
   "cell_type": "code",
   "execution_count": null,
   "metadata": {},
   "outputs": [],
   "source": [
    "df_cleaned.hist('Czas')"
   ]
  },
  {
   "cell_type": "code",
   "execution_count": null,
   "metadata": {},
   "outputs": [],
   "source": [
    "df_cleaned.hist('Wiek')"
   ]
  },
  {
   "cell_type": "code",
   "execution_count": null,
   "metadata": {},
   "outputs": [],
   "source": [
    "#wartości odstajace\n",
    "\n",
    "# Wykres pudełkowy dla kolumn 'Czas', '5 km Tempo' i '5 km Czas'\n",
    "df_cleaned[['Czas', '5 km Tempo', '5 km Czas', 'Wiek']].plot(kind='box', vert=False, figsize=(10, 5), grid=True)\n",
    "plt.show()\n"
   ]
  },
  {
   "cell_type": "code",
   "execution_count": null,
   "metadata": {},
   "outputs": [],
   "source": [
    "\n",
    "# Lista kolumn, w których usuwamu wartości odstające\n",
    "columns_to_check = [\"Czas\", \"5 km Tempo\", \"5 km Czas\",\"Wiek\"]\n",
    "\n",
    "\n",
    "df_no_outliers = df_cleaned.copy()\n",
    "\n",
    "for col in columns_to_check:\n",
    "    Q1 = df_cleaned[col].quantile(0.25)  # 1. kwartyl (25%)\n",
    "    Q3 = df_cleaned[col].quantile(0.75)  # 3. kwartyl (75%)\n",
    "    IQR = Q3 - Q1  # Rozstęp międzykwartylowy\n",
    "\n",
    "    # Ustalamy dolną i górną granicę (zwykle 1.5*IQR to standardowy próg)\n",
    "    lower_bound = Q1 - 1.5 * IQR\n",
    "    upper_bound = Q3 + 1.5 * IQR\n",
    "\n",
    "    # Usuwamy wartości odstające dla kolumn\n",
    "    df_no_outliers = df_no_outliers[(df_no_outliers[col] >= lower_bound) & (df_no_outliers[col] <= upper_bound)]\n",
    "\n",
    "# Aktualizacja df_cleaned po usunięciu wartości odstających\n",
    "df_cleaned = df_no_outliers.copy()\n",
    "\n",
    "# Sprawdzenie, ile procent danych usunięto\n",
    "print(f\"Pozostało {round((len(df_cleaned) / len(df_full)) * 100, 2)}% danych.\")\n"
   ]
  },
  {
   "cell_type": "code",
   "execution_count": null,
   "metadata": {},
   "outputs": [],
   "source": [
    "df_cleaned[['Czas', '5 km Tempo', '5 km Czas', 'Wiek']].plot(kind='box', vert=False, figsize=(10, 5), grid=True)\n",
    "\n",
    "plt.show()"
   ]
  },
  {
   "cell_type": "code",
   "execution_count": null,
   "metadata": {},
   "outputs": [],
   "source": [
    "df_cleaned.isnull().sum()"
   ]
  },
  {
   "cell_type": "code",
   "execution_count": null,
   "metadata": {},
   "outputs": [],
   "source": [
    "df_cleaned.info()"
   ]
  },
  {
   "cell_type": "code",
   "execution_count": null,
   "metadata": {},
   "outputs": [],
   "source": [
    "df_cleaned.tail(6)"
   ]
  },
  {
   "cell_type": "code",
   "execution_count": null,
   "metadata": {},
   "outputs": [],
   "source": [
    "#zapisanie df z wyczyszczonymi danymi\n",
    "df_cleaned.to_csv(\"df_cleaned.csv\", index=False)"
   ]
  },
  {
   "cell_type": "markdown",
   "metadata": {},
   "source": [
    "Trenowanie modelu."
   ]
  },
  {
   "cell_type": "code",
   "execution_count": null,
   "metadata": {},
   "outputs": [],
   "source": [
    "#przygotowanie exp i określenie potrzebnych cech\n",
    "exp = setup(\n",
    "    data=df_cleaned, \n",
    "    target='Czas',\n",
    "    categorical_features=['Płeć'], \n",
    "    ignore_features=['Kategoria wiekowa','10 km Czas', '10 km Tempo','15 km Czas', '15 km Tempo',\n",
    "                     '20 km Tempo','Tempo', '20 km Czas'],\n",
    "    session_id=123,\n",
    ")"
   ]
  },
  {
   "cell_type": "code",
   "execution_count": null,
   "metadata": {},
   "outputs": [],
   "source": [
    "#dane po uruchomieniu trenowania\n",
    "exp.dataset_transformed"
   ]
  },
  {
   "cell_type": "code",
   "execution_count": null,
   "metadata": {},
   "outputs": [],
   "source": [
    "#szukanie najlepszego modelu, MAE metryka, która mierzy średni błąd bezwzględny, (niskie wartości oczekiwane)\n",
    "best_model = exp.compare_models(sort='MAE')"
   ]
  },
  {
   "cell_type": "code",
   "execution_count": null,
   "metadata": {},
   "outputs": [],
   "source": [
    "metryki_przed_tuningiem = pull()\n",
    "metryki_przed_tuningiem"
   ]
  },
  {
   "cell_type": "code",
   "execution_count": null,
   "metadata": {},
   "outputs": [],
   "source": [
    "# próba strojenia hiperparametrów, tuning\n",
    "\n",
    "best_tuned_model = exp.tune_model(best_model, n_iter=200, optimize='MAE')"
   ]
  },
  {
   "cell_type": "code",
   "execution_count": null,
   "metadata": {},
   "outputs": [],
   "source": [
    "#porównanie\n",
    "best_final_model = compare_models([best_model, best_tuned_model])"
   ]
  },
  {
   "cell_type": "code",
   "execution_count": null,
   "metadata": {},
   "outputs": [],
   "source": [
    "#uruchomienie modelu na holdout set\n",
    "exp.predict_model(best_final_model)"
   ]
  },
  {
   "cell_type": "code",
   "execution_count": null,
   "metadata": {},
   "outputs": [],
   "source": [
    "# wizualizacja istotności cech\n",
    "\n",
    "plot_model(best_final_model, plot='feature')"
   ]
  },
  {
   "cell_type": "code",
   "execution_count": null,
   "metadata": {},
   "outputs": [],
   "source": [
    "plot_model(best_final_model, plot=\"residuals\")"
   ]
  },
  {
   "cell_type": "code",
   "execution_count": null,
   "metadata": {},
   "outputs": [],
   "source": [
    "\n",
    "#jak model sie myli\n",
    "plot_model(best_final_model, plot='error')"
   ]
  },
  {
   "cell_type": "code",
   "execution_count": null,
   "metadata": {},
   "outputs": [],
   "source": [
    "# trenuję model na całym Dataset\n",
    "\n",
    "final_model = finalize_model(best_final_model)"
   ]
  },
  {
   "cell_type": "code",
   "execution_count": null,
   "metadata": {},
   "outputs": [],
   "source": [
    "final_model"
   ]
  },
  {
   "cell_type": "markdown",
   "metadata": {},
   "source": [
    "Zapisywanie modelu."
   ]
  },
  {
   "cell_type": "code",
   "execution_count": null,
   "metadata": {},
   "outputs": [],
   "source": [
    "save_model(final_model, 'huber_model_halfmarathon_time')"
   ]
  },
  {
   "cell_type": "code",
   "execution_count": null,
   "metadata": {},
   "outputs": [],
   "source": [
    "# zapisanie modelu w Spaces Object Storage\n",
    "\n",
    "s3.upload_file(\n",
    "    Filename=\"huber_model_halfmarathon_time.pkl\",\n",
    "    Bucket=BUCKET_NAME,\n",
    "    Key='stocks/model/huber_model_halfmarathon_time.pkl'\n",
    ")"
   ]
  },
  {
   "cell_type": "markdown",
   "metadata": {},
   "source": [
    "Próba działania modelu."
   ]
  },
  {
   "cell_type": "code",
   "execution_count": null,
   "metadata": {},
   "outputs": [],
   "source": [
    "user_data_df = pd.DataFrame(\n",
    "        {'Wiek' : 28,\n",
    "        'Płeć' : 'M',\n",
    "        '5 km Tempo' : 4.45, \n",
    "        '5 km Czas' : 1500,\n",
    "        }, index=[0])"
   ]
  },
  {
   "cell_type": "code",
   "execution_count": null,
   "metadata": {},
   "outputs": [],
   "source": [
    "import datetime\n",
    "\n",
    "prediction = predict_model(final_model, data=user_data_df)\n",
    "\n",
    "prediction_seconds = round(prediction[\"prediction_label\"][0], 2)\n",
    "\n",
    "prediction_time = str(datetime.timedelta(seconds=int(prediction_seconds)))\n",
    "\n",
    "print(f'Próba modelu, przewidywanie czas ukończenia półmaratonu: H:M:S wynosi {prediction_time}')"
   ]
  },
  {
   "cell_type": "code",
   "execution_count": null,
   "metadata": {},
   "outputs": [],
   "source": [
    "user_1_data_df = pd.DataFrame(\n",
    "        {'Wiek' : 32,\n",
    "        'Płeć' : 'K',\n",
    "        '5 km Tempo' : 6.45, \n",
    "        '5 km Czas' : 2100,\n",
    "        }, index=[0])"
   ]
  },
  {
   "cell_type": "code",
   "execution_count": null,
   "metadata": {},
   "outputs": [],
   "source": [
    "prediction = predict_model(final_model, data=user_1_data_df)\n",
    "\n",
    "prediction_seconds = round(prediction[\"prediction_label\"][0], 2)\n",
    "\n",
    "prediction_time = str(datetime.timedelta(seconds=int(prediction_seconds)))\n",
    "\n",
    "print(f'Próba modelu, przewidywanie czas ukończenia półmaratonu: H:M:S wynosi {prediction_time}')"
   ]
  },
  {
   "cell_type": "code",
   "execution_count": null,
   "metadata": {},
   "outputs": [],
   "source": [
    "user_2_data_df = pd.DataFrame(\n",
    "        {'Wiek' : 53,\n",
    "        'Płeć' : 'M',\n",
    "        '5 km Tempo' : 5.45, \n",
    "        '5 km Czas' : 1900,\n",
    "        }, index=[0])"
   ]
  },
  {
   "cell_type": "code",
   "execution_count": null,
   "metadata": {},
   "outputs": [],
   "source": [
    "\n",
    "prediction = predict_model(final_model, data=user_2_data_df)\n",
    "\n",
    "# Pobranie przewidywanej wartości i zaokrąglenie\n",
    "predicted_seconds = round(prediction[\"prediction_label\"].iloc[0], 2)\n",
    "\n",
    "# Konwersja sekund na format godzinowy (H:M:S)\n",
    "predicted_time = str(datetime.timedelta(seconds=int(predicted_seconds)))\n",
    "\n",
    "\n",
    "print(f\"Przewidywany czas ukończenia półmaratonu: {predicted_time}\")\n"
   ]
  },
  {
   "cell_type": "code",
   "execution_count": null,
   "metadata": {},
   "outputs": [],
   "source": [
    "import pandas as pd\n",
    "df_spr= pd.read_csv(\"df_cleaned.csv\")\n"
   ]
  },
  {
   "cell_type": "code",
   "execution_count": null,
   "metadata": {},
   "outputs": [],
   "source": [
    "print(df_spr[\"5 km Tempo\"].describe())"
   ]
  },
  {
   "cell_type": "code",
   "execution_count": null,
   "metadata": {},
   "outputs": [],
   "source": [
    "print(df_spr[\"5 km Czas\"].describe())"
   ]
  }
 ],
 "metadata": {
  "kernelspec": {
   "display_name": "od_zera_do_ai",
   "language": "python",
   "name": "python3"
  },
  "language_info": {
   "codemirror_mode": {
    "name": "ipython",
    "version": 3
   },
   "file_extension": ".py",
   "mimetype": "text/x-python",
   "name": "python",
   "nbconvert_exporter": "python",
   "pygments_lexer": "ipython3",
   "version": "3.11.11"
  }
 },
 "nbformat": 4,
 "nbformat_minor": 2
}
